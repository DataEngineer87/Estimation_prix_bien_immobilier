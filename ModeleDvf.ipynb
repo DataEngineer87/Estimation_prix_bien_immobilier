{
 "cells": [
  {
   "cell_type": "markdown",
   "id": "ce1aeef3",
   "metadata": {},
   "source": [
    "# Estimation du Prix d'un Bien Immobilier "
   ]
  },
  {
   "cell_type": "markdown",
   "id": "KfHJhZj10y5v",
   "metadata": {
    "id": "KfHJhZj10y5v"
   },
   "source": [
    "# Alseny\n",
    "### Data Scientist / Machine Learning Engineer"
   ]
  },
  {
   "cell_type": "markdown",
   "id": "5268d471-499b-4986-b1ce-ebf28243f64f",
   "metadata": {
    "id": "5268d471-499b-4986-b1ce-ebf28243f64f"
   },
   "source": [
    "### Pipeline complet de data science appliqué à ce projet\n",
    "\n",
    "🔷 1- Introduction.\n",
    "\n",
    "🔷 2- Compréhension du besoin.\n",
    "\n",
    "🔷 3- Récupération des données. \n",
    "\n",
    "🔷 4- Exploration (exploratory data analysis - EDA).\n",
    "\n",
    "🔷 5- Nettoyage.\n",
    "\n",
    "🔷 6- Data visualisation.\n",
    "\n",
    "🔷 7-Encodage des variables catégorielles.\n",
    "\n",
    "🔷 8- Sauvegarde des données prétraitées pour la phase de modélisation.\n",
    "\n",
    "🔷 9- Modélisation.\n",
    "\n",
    "🔷 10- Mise en place d’une application web interactive avec Streamlit pour l’exploration et la prédiction des prix       immobiliers à partir des données DVF."
   ]
  },
  {
   "cell_type": "markdown",
   "id": "15d883ca",
   "metadata": {},
   "source": [
    "#  🔷 9- Modélisation\n",
    "- Importation des données nettoyées\n",
    "- Initialisation des modèles\n",
    "- Procédure d'évaluation\n",
    "- Choix du modèle final\n",
    "- Affichage des variables importantes\n",
    "- Explicabilité du modèle (SHAP)\n",
    "- Analyse des résultats\n",
    "- Enregistrement du modèle au format .pkl pour une application web Streamlit"
   ]
  },
  {
   "cell_type": "markdown",
   "id": "e9a7257b-b703-4bdc-9735-2c3256170517",
   "metadata": {
    "id": "e9a7257b-b703-4bdc-9735-2c3256170517"
   },
   "source": [
    "## Importation des packages"
   ]
  },
  {
   "cell_type": "code",
   "execution_count": 1,
   "id": "e44537a7",
   "metadata": {},
   "outputs": [
    {
     "data": {
      "text/plain": [
       "0"
      ]
     },
     "execution_count": 1,
     "metadata": {},
     "output_type": "execute_result"
    }
   ],
   "source": [
    "# Ramassage des objets inutiles en mémoire\n",
    "import gc\n",
    "gc.collect()"
   ]
  },
  {
   "cell_type": "code",
   "execution_count": 2,
   "id": "4a99d3d4",
   "metadata": {},
   "outputs": [
    {
     "name": "stdout",
     "output_type": "stream",
     "text": [
      "Le notebook /home/sacko/Documents/ProjetDvfVersion1/Scripts/Utils.ipynb a été converti en script Python.\n"
     ]
    }
   ],
   "source": [
    "import numpy as np\n",
    "import seaborn as sns\n",
    "import pandas as pd\n",
    "import sklearn\n",
    "import matplotlib.pyplot as plt\n",
    "import Utils  # Importation des fonctions définies dans le fichier utils.ipynb"
   ]
  },
  {
   "cell_type": "markdown",
   "id": "bc335b5f",
   "metadata": {},
   "source": [
    "## 9.1- Importation des données nettoyées"
   ]
  },
  {
   "cell_type": "markdown",
   "id": "9588f582-de08-419c-8db7-ca2dde21fcbe",
   "metadata": {
    "id": "9588f582-de08-419c-8db7-ca2dde21fcbe"
   },
   "source": [
    "##  Chargement DataSet Train"
   ]
  },
  {
   "cell_type": "code",
   "execution_count": 3,
   "id": "c9d0d7fd",
   "metadata": {},
   "outputs": [],
   "source": [
    "pd.set_option('display.max_rows', None)\n",
    "pd.set_option('display.max_columns',None)"
   ]
  },
  {
   "cell_type": "code",
   "execution_count": 4,
   "id": "b3af7343",
   "metadata": {},
   "outputs": [
    {
     "name": "stdout",
     "output_type": "stream",
     "text": [
      "(2139495, 15)\n",
      "<class 'pandas.core.frame.DataFrame'>\n",
      "Index: 2139495 entries, 1793421 to 2914311\n",
      "Data columns (total 15 columns):\n",
      " #   Column                                       Dtype  \n",
      "---  ------                                       -----  \n",
      " 0   Surface_terrain                              float64\n",
      " 1   Surface_reelle_bati                          float64\n",
      " 2   Nombre_pieces_principales                    float64\n",
      " 3   annee_mutation                               int64  \n",
      " 4   mois_mutation                                int64  \n",
      " 5   Valeur_fonciere                              float64\n",
      " 6   code_postal_encoded                          float64\n",
      " 7   Nature_mutation_Adjudication                 int64  \n",
      " 8   Nature_mutation_Echange                      int64  \n",
      " 9   Nature_mutation_Expropriation                int64  \n",
      " 10  Nature_mutation_Vente                        int64  \n",
      " 11  Nature_mutation_Vente_etat_futur_achevement  int64  \n",
      " 12  Nature_mutation_Vente_terrain_a_batir        int64  \n",
      " 13  Type_local_Appartement                       int64  \n",
      " 14  Type_local_Maison                            int64  \n",
      "dtypes: float64(5), int64(10)\n",
      "memory usage: 261.2 MB\n"
     ]
    }
   ],
   "source": [
    "# Chargement des données\n",
    "df_train_cleaned = Utils.load_and_save_data(\n",
    "    file_path='/home/sacko/Documents/ProjetDvfVersion1/Scripts/df_train_cleaned.csv',\n",
    "#      sample=0.2,               # Charger 20 % des données\n",
    "#      random_state=42,          # Pour reproductibilité de l'échantillonnage\n",
    "     index_col=0               # Utiliser la première colonne comme index\n",
    ")\n",
    "\n",
    "print(df_train_cleaned.shape)\n",
    "df_train_cleaned.info()"
   ]
  },
  {
   "cell_type": "code",
   "execution_count": 5,
   "id": "b8a10d22",
   "metadata": {},
   "outputs": [],
   "source": [
    "# Séparation des variables explicatives et de la variable cible dans les données d'entraînement\n",
    "X_train =  df_train_cleaned.drop([\"Valeur_fonciere\"], axis = 1)\n",
    "\n",
    "y_train = df_train_cleaned[\"Valeur_fonciere\"]"
   ]
  },
  {
   "cell_type": "markdown",
   "id": "fe85c1ec",
   "metadata": {},
   "source": [
    "## Chargement DataSet test"
   ]
  },
  {
   "cell_type": "code",
   "execution_count": 6,
   "id": "3a9854dd",
   "metadata": {},
   "outputs": [
    {
     "name": "stdout",
     "output_type": "stream",
     "text": [
      "(536973, 15)\n",
      "<class 'pandas.core.frame.DataFrame'>\n",
      "Index: 536973 entries, 3515754 to 16941\n",
      "Data columns (total 15 columns):\n",
      " #   Column                                       Non-Null Count   Dtype  \n",
      "---  ------                                       --------------   -----  \n",
      " 0   Surface_terrain                              536973 non-null  float64\n",
      " 1   Surface_reelle_bati                          536973 non-null  float64\n",
      " 2   Nombre_pieces_principales                    536973 non-null  float64\n",
      " 3   annee_mutation                               536973 non-null  int64  \n",
      " 4   mois_mutation                                536973 non-null  int64  \n",
      " 5   Valeur_fonciere                              536973 non-null  float64\n",
      " 6   code_postal_encoded                          536973 non-null  float64\n",
      " 7   Nature_mutation_Adjudication                 536973 non-null  int64  \n",
      " 8   Nature_mutation_Echange                      536973 non-null  int64  \n",
      " 9   Nature_mutation_Expropriation                536973 non-null  int64  \n",
      " 10  Nature_mutation_Vente                        536973 non-null  int64  \n",
      " 11  Nature_mutation_Vente_etat_futur_achevement  536973 non-null  int64  \n",
      " 12  Nature_mutation_Vente_terrain_a_batir        536973 non-null  int64  \n",
      " 13  Type_local_Appartement                       536973 non-null  int64  \n",
      " 14  Type_local_Maison                            536973 non-null  int64  \n",
      "dtypes: float64(5), int64(10)\n",
      "memory usage: 65.5 MB\n"
     ]
    }
   ],
   "source": [
    "# Chargement des données\n",
    "df_test_cleaned = Utils.load_and_save_data(\n",
    "    file_path='/home/sacko/Documents/ProjetDvfVersion1/Donnees/df_test_cleaned.csv',\n",
    "#      sample=0.2,               # Charger 20 % des données\n",
    "#      random_state=42,          # Pour reproductibilité de l'échantillonnage\n",
    "     index_col=0               # Utiliser la première colonne comme index\n",
    ")\n",
    "\n",
    "print(df_test_cleaned.shape)\n",
    "df_test_cleaned.info()"
   ]
  },
  {
   "cell_type": "code",
   "execution_count": 7,
   "id": "ad4a61f7",
   "metadata": {},
   "outputs": [],
   "source": [
    "# Séparation des variables explicatives et de la variable cible dans les données test\n",
    "X_test =  df_test_cleaned.drop([\"Valeur_fonciere\"], axis = 1)\n",
    "\n",
    "y_test = df_test_cleaned[\"Valeur_fonciere\"]"
   ]
  },
  {
   "cell_type": "markdown",
   "id": "c96ea844",
   "metadata": {},
   "source": [
    "## 9.2- Initialisation des modèles"
   ]
  },
  {
   "cell_type": "code",
   "execution_count": 8,
   "id": "de3625bf",
   "metadata": {},
   "outputs": [],
   "source": [
    "from sklearn.ensemble import RandomForestRegressor, GradientBoostingRegressor, HistGradientBoostingRegressor\n",
    "from xgboost import XGBRegressor\n",
    "from sklearn.svm import SVR\n",
    "from sklearn.metrics import mean_absolute_error, mean_squared_error, r2_score\n",
    "import warnings\n",
    "from joblib import Parallel, delayed"
   ]
  },
  {
   "cell_type": "code",
   "execution_count": 9,
   "id": "f56aaf43",
   "metadata": {},
   "outputs": [],
   "source": [
    "models = {\n",
    "    \"Random Forest\": RandomForestRegressor(n_estimators=100, random_state=42, n_jobs=-1),\n",
    "    \"XGBoost\": XGBRegressor(objective='reg:squarederror', n_estimators=100, random_state=42, n_jobs=-1),\n",
    "    \"Hist Gradient Boosting\": HistGradientBoostingRegressor(max_iter=100, random_state=42),\n",
    "}"
   ]
  },
  {
   "cell_type": "markdown",
   "id": "a9e651b4",
   "metadata": {},
   "source": [
    "## 9.3- Procédure d'évaluation"
   ]
  },
  {
   "cell_type": "code",
   "execution_count": 10,
   "id": "88629c7a",
   "metadata": {},
   "outputs": [],
   "source": [
    "# Entraînement et évaluation optimisés\n",
    "def evaluate_model(model, X_train, X_test, y_train, y_test):\n",
    "    model.fit(X_train, y_train)\n",
    "    y_pred = model.predict(X_test)\n",
    "    \n",
    "    mae = mean_absolute_error(y_test, y_pred)\n",
    "    rmse = np.sqrt(mean_squared_error(y_test, y_pred))\n",
    "    r2 = r2_score(y_test, y_pred)\n",
    "\n",
    "    return {\"MAE\": mae, \"RMSE\": rmse, \"R2\": r2}"
   ]
  },
  {
   "cell_type": "code",
   "execution_count": 11,
   "id": "8f85b947",
   "metadata": {},
   "outputs": [],
   "source": [
    "# Parallélisation de l'évaluation des modèles\n",
    "def evaluate_models(models, X_train, X_test, y_train, y_test):\n",
    "    results = Parallel(n_jobs=-1)(\n",
    "        delayed(evaluate_model)(model, X_train, X_test, y_train, y_test) \n",
    "        for model in models.values()\n",
    "    )\n",
    "    return dict(zip(models.keys(), results))"
   ]
  },
  {
   "cell_type": "code",
   "execution_count": 12,
   "id": "adffebf2",
   "metadata": {},
   "outputs": [
    {
     "name": "stdout",
     "output_type": "stream",
     "text": [
      "Final Results Summary:\n",
      "\n",
      "Random Forest:\n",
      "  MAE: 2667.6573\n",
      "  RMSE: 13234.2886\n",
      "  R2: 0.9802\n",
      "------------------------------\n",
      "\n",
      "\n",
      "XGBoost:\n",
      "  MAE: 45024.7757\n",
      "  RMSE: 59408.1866\n",
      "  R2: 0.6008\n",
      "------------------------------\n",
      "\n",
      "\n",
      "Hist Gradient Boosting:\n",
      "  MAE: 46122.4539\n",
      "  RMSE: 60829.5836\n",
      "  R2: 0.5814\n",
      "------------------------------\n",
      "\n",
      "\n"
     ]
    }
   ],
   "source": [
    "# Affichage final des résultats\n",
    "results = evaluate_models(models, X_train, X_test, y_train, y_test)\n",
    "\n",
    "print(\"Final Results Summary:\\n\")\n",
    "for model_name, metrics in results.items():\n",
    "    print(f\"{model_name}:\")\n",
    "    for metric, value in metrics.items():\n",
    "        print(f\"  {metric}: {value:.4f}\")\n",
    "    print(\"-\" * 30)\n",
    "    print(\"\\n\")"
   ]
  },
  {
   "cell_type": "markdown",
   "id": "4ce38f87",
   "metadata": {},
   "source": [
    "## 9.4- Choix du modèle final"
   ]
  },
  {
   "cell_type": "code",
   "execution_count": 13,
   "id": "e80231f2",
   "metadata": {},
   "outputs": [
    {
     "data": {
      "text/html": [
       "<style>#sk-container-id-1 {color: black;background-color: white;}#sk-container-id-1 pre{padding: 0;}#sk-container-id-1 div.sk-toggleable {background-color: white;}#sk-container-id-1 label.sk-toggleable__label {cursor: pointer;display: block;width: 100%;margin-bottom: 0;padding: 0.3em;box-sizing: border-box;text-align: center;}#sk-container-id-1 label.sk-toggleable__label-arrow:before {content: \"▸\";float: left;margin-right: 0.25em;color: #696969;}#sk-container-id-1 label.sk-toggleable__label-arrow:hover:before {color: black;}#sk-container-id-1 div.sk-estimator:hover label.sk-toggleable__label-arrow:before {color: black;}#sk-container-id-1 div.sk-toggleable__content {max-height: 0;max-width: 0;overflow: hidden;text-align: left;background-color: #f0f8ff;}#sk-container-id-1 div.sk-toggleable__content pre {margin: 0.2em;color: black;border-radius: 0.25em;background-color: #f0f8ff;}#sk-container-id-1 input.sk-toggleable__control:checked~div.sk-toggleable__content {max-height: 200px;max-width: 100%;overflow: auto;}#sk-container-id-1 input.sk-toggleable__control:checked~label.sk-toggleable__label-arrow:before {content: \"▾\";}#sk-container-id-1 div.sk-estimator input.sk-toggleable__control:checked~label.sk-toggleable__label {background-color: #d4ebff;}#sk-container-id-1 div.sk-label input.sk-toggleable__control:checked~label.sk-toggleable__label {background-color: #d4ebff;}#sk-container-id-1 input.sk-hidden--visually {border: 0;clip: rect(1px 1px 1px 1px);clip: rect(1px, 1px, 1px, 1px);height: 1px;margin: -1px;overflow: hidden;padding: 0;position: absolute;width: 1px;}#sk-container-id-1 div.sk-estimator {font-family: monospace;background-color: #f0f8ff;border: 1px dotted black;border-radius: 0.25em;box-sizing: border-box;margin-bottom: 0.5em;}#sk-container-id-1 div.sk-estimator:hover {background-color: #d4ebff;}#sk-container-id-1 div.sk-parallel-item::after {content: \"\";width: 100%;border-bottom: 1px solid gray;flex-grow: 1;}#sk-container-id-1 div.sk-label:hover label.sk-toggleable__label {background-color: #d4ebff;}#sk-container-id-1 div.sk-serial::before {content: \"\";position: absolute;border-left: 1px solid gray;box-sizing: border-box;top: 0;bottom: 0;left: 50%;z-index: 0;}#sk-container-id-1 div.sk-serial {display: flex;flex-direction: column;align-items: center;background-color: white;padding-right: 0.2em;padding-left: 0.2em;position: relative;}#sk-container-id-1 div.sk-item {position: relative;z-index: 1;}#sk-container-id-1 div.sk-parallel {display: flex;align-items: stretch;justify-content: center;background-color: white;position: relative;}#sk-container-id-1 div.sk-item::before, #sk-container-id-1 div.sk-parallel-item::before {content: \"\";position: absolute;border-left: 1px solid gray;box-sizing: border-box;top: 0;bottom: 0;left: 50%;z-index: -1;}#sk-container-id-1 div.sk-parallel-item {display: flex;flex-direction: column;z-index: 1;position: relative;background-color: white;}#sk-container-id-1 div.sk-parallel-item:first-child::after {align-self: flex-end;width: 50%;}#sk-container-id-1 div.sk-parallel-item:last-child::after {align-self: flex-start;width: 50%;}#sk-container-id-1 div.sk-parallel-item:only-child::after {width: 0;}#sk-container-id-1 div.sk-dashed-wrapped {border: 1px dashed gray;margin: 0 0.4em 0.5em 0.4em;box-sizing: border-box;padding-bottom: 0.4em;background-color: white;}#sk-container-id-1 div.sk-label label {font-family: monospace;font-weight: bold;display: inline-block;line-height: 1.2em;}#sk-container-id-1 div.sk-label-container {text-align: center;}#sk-container-id-1 div.sk-container {/* jupyter's `normalize.less` sets `[hidden] { display: none; }` but bootstrap.min.css set `[hidden] { display: none !important; }` so we also need the `!important` here to be able to override the default hidden behavior on the sphinx rendered scikit-learn.org. See: https://github.com/scikit-learn/scikit-learn/issues/21755 */display: inline-block !important;position: relative;}#sk-container-id-1 div.sk-text-repr-fallback {display: none;}</style><div id=\"sk-container-id-1\" class=\"sk-top-container\"><div class=\"sk-text-repr-fallback\"><pre>RandomForestRegressor(n_jobs=-1, random_state=42)</pre><b>In a Jupyter environment, please rerun this cell to show the HTML representation or trust the notebook. <br />On GitHub, the HTML representation is unable to render, please try loading this page with nbviewer.org.</b></div><div class=\"sk-container\" hidden><div class=\"sk-item\"><div class=\"sk-estimator sk-toggleable\"><input class=\"sk-toggleable__control sk-hidden--visually\" id=\"sk-estimator-id-1\" type=\"checkbox\" checked><label for=\"sk-estimator-id-1\" class=\"sk-toggleable__label sk-toggleable__label-arrow\">RandomForestRegressor</label><div class=\"sk-toggleable__content\"><pre>RandomForestRegressor(n_jobs=-1, random_state=42)</pre></div></div></div></div></div>"
      ],
      "text/plain": [
       "RandomForestRegressor(n_jobs=-1, random_state=42)"
      ]
     },
     "execution_count": 13,
     "metadata": {},
     "output_type": "execute_result"
    }
   ],
   "source": [
    "# Récupérer le modèle Random Forest (meilleur modèle)\n",
    "best_rf = models[\"Random Forest\"]\n",
    "# Ignorer les FutureWarnings\n",
    "warnings.simplefilter(action='ignore', category=FutureWarning)\n",
    "    \n",
    "# Entraîner le modèle Random Forest avant d'obtenir les importances\n",
    "best_rf.fit(X_train, y_train)"
   ]
  },
  {
   "cell_type": "markdown",
   "id": "5ad350ac",
   "metadata": {},
   "source": [
    "## 9.5- Importantes des variables"
   ]
  },
  {
   "cell_type": "code",
   "execution_count": 14,
   "id": "5f29b88a",
   "metadata": {},
   "outputs": [
    {
     "name": "stdout",
     "output_type": "stream",
     "text": [
      "\n",
      "Top 10 des variables les plus importantes pour Random Forest :\n",
      "                      Feature  Importance\n",
      "5         code_postal_encoded    0.436163\n",
      "1         Surface_reelle_bati    0.274705\n",
      "0             Surface_terrain    0.154658\n",
      "4               mois_mutation    0.060934\n",
      "2   Nombre_pieces_principales    0.036375\n",
      "3              annee_mutation    0.021725\n",
      "13          Type_local_Maison    0.006991\n",
      "12     Type_local_Appartement    0.004362\n",
      "9       Nature_mutation_Vente    0.002281\n",
      "7     Nature_mutation_Echange    0.000873\n"
     ]
    },
    {
     "data": {
      "image/png": "[encoded data removed]",
      "text/plain": [
       "<Figure size 720x432 with 1 Axes>"
      ]
     },
     "metadata": {
      "needs_background": "light"
     },
     "output_type": "display_data"
    }
   ],
   "source": [
    "# Extraire les importances des variables\n",
    "importances = best_rf.feature_importances_\n",
    "\n",
    "# Créer un DataFrame pour mieux afficher\n",
    "feature_importance_df = pd.DataFrame({\n",
    "    'Feature': X_train.columns,  # Noms des variables\n",
    "    'Importance': importances   # Importance associée\n",
    "})\n",
    "\n",
    "# Trier par importance décroissante\n",
    "feature_importance_df = feature_importance_df.sort_values(by='Importance', ascending=False)\n",
    "\n",
    "# Affichage des top features\n",
    "print(\"\\nTop 10 des variables les plus importantes pour Random Forest :\")\n",
    "print(feature_importance_df.head(10))\n",
    "\n",
    "# Affichage graphique\n",
    "plt.figure(figsize=(10, 6))\n",
    "plt.barh(feature_importance_df['Feature'], feature_importance_df['Importance'])\n",
    "plt.xlabel(\"Importance\")\n",
    "plt.title(\"Importances des Variables - Random Forest\")\n",
    "plt.gca().invert_yaxis()  # Pour afficher la plus importante en haut\n",
    "plt.tight_layout()\n",
    "plt.show()"
   ]
  },
  {
   "cell_type": "markdown",
   "id": "94cc2835",
   "metadata": {},
   "source": [
    "## 9.5- Explicabilité du modèle"
   ]
  },
  {
   "cell_type": "code",
   "execution_count": 28,
   "id": "21a5a44c",
   "metadata": {},
   "outputs": [],
   "source": [
    "# Explicabilité\n",
    "explainer = shap.Explainer(RandomForest)\n",
    "shap_values = explainer(X_test)\n",
    "shap.plots.bar(shap_values)"
   ]
  },
  {
   "cell_type": "markdown",
   "id": "b0a3f90d",
   "metadata": {},
   "source": [
    "## 9.6- Analyse des Résultats :\n",
    "### Métriques utilisées :\n",
    "- MAE (Mean Absolute Error) : moyenne des erreurs absolues.\n",
    "\n",
    "- RMSE (Root Mean Squared Error) : racine carrée de la moyenne des carrés des erreurs — pénalise davantage les \n",
    "  grandes erreurs.\n",
    "\n",
    "- R² (coefficient de détermination) : mesure de la qualité de la prédiction (plus proche de 1 = meilleur).\n",
    "### Random Forest :\n",
    "-  MAE: 2667.6573\n",
    "\n",
    "-  RMSE: 13234.2886\n",
    "\n",
    "-  R2: 0.9802 \n",
    "\n",
    "Meilleur modèle sur tous les indicateurs. Faible erreur, forte capacité explicative.\n",
    "Indique une forte adéquation aux données.\n",
    "\n",
    "### XGBoost :\n",
    "-  MAE: 45024.7757\n",
    "\n",
    "-  RMSE: 59408.1866\n",
    "\n",
    "-  R2: 0.6008\n",
    "\n",
    "Performances très inférieures à celles de la forêt aléatoire. Erreurs plus importantes et explication plus faible de la variance.\n",
    "\n",
    "### Hist Gradient Boosting\n",
    "-  MAE: 46122.4539\n",
    "\n",
    "-  RMSE: 60829.5836\n",
    "\n",
    "-  R2: 0.5814\n",
    "\n",
    "Très similaire à XGBoost, mais légèrement pire."
   ]
  },
  {
   "cell_type": "markdown",
   "id": "909931ca",
   "metadata": {},
   "source": [
    "## Conclusion :\n",
    "- Le modèle Random Forest surperforme largement les deux autres avec une erreur moyenne très faible et un R² proche de 1. Cela indique une excellente capacité de prédiction.\n",
    "- Les modèles XGBoost et HistGradientBoosting montrent des performances nettement inférieures, avec des erreurs plus importantes et un pouvoir explicatif limité."
   ]
  },
  {
   "cell_type": "markdown",
   "id": "a52f0b82",
   "metadata": {},
   "source": [
    "## Enregistrement du modèle au format .pkl pour une application web Streamlit"
   ]
  },
  {
   "cell_type": "code",
   "execution_count": 59,
   "id": "ee9db0ca",
   "metadata": {},
   "outputs": [
    {
     "name": "stdout",
     "output_type": "stream",
     "text": [
      "✅ Modèle entraîné et sauvegardé sous 'Model_DVF.pkl'\n"
     ]
    }
   ],
   "source": [
    "# Sauvegarde pour Streamlit\n",
    "import pickle\n",
    "with open(\"App_DVF.pkl\", \"wb\") as f:\n",
    "    \n",
    "    pickle.dump(best_rf, f)\n",
    "    \n",
    "print(\"✅ Modèle entraîné et sauvegardé sous 'Model_DVF.pkl'\")"
   ]
  },
  {
   "cell_type": "code",
   "execution_count": null,
   "id": "3ec4246a",
   "metadata": {},
   "outputs": [],
   "source": []
  }
 ],
 "metadata": {
  "colab": {
   "provenance": []
  },
  "kernelspec": {
   "display_name": "Python 3 (ipykernel)",
   "language": "python",
   "name": "python3"
  },
  "language_info": {
   "codemirror_mode": {
    "name": "ipython",
    "version": 3
   },
   "file_extension": ".py",
   "mimetype": "text/x-python",
   "name": "python",
   "nbconvert_exporter": "python",
   "pygments_lexer": "ipython3",
   "version": "3.9.12"
  }
 },
 "nbformat": 4,
 "nbformat_minor": 5
}
